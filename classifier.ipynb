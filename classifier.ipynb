{
  "cells": [
    {
      "cell_type": "code",
      "execution_count": 3,
      "metadata": {
        "id": "bNtFJP6KE1vw"
      },
      "outputs": [],
      "source": [
        "# import required libraries\n",
        "import torch\n",
        "import torch.nn as nn\n",
        "import torch.nn.functional as f\n",
        "import torchvision\n",
        "import torchvision.transforms as transforms\n",
        "import torch.optim as optim\n",
        "import csv\n",
        "import torchvision.transforms as transforms\n",
        "from torch.utils.data import DataLoader, TensorDataset\n",
        "import pickle\n",
        "import numpy as np\n",
        "import pandas as pd\n",
        "from sklearn.model_selection import train_test_split\n",
        "\n",
        "#set seed for consistency and reproducibility\n",
        "torch.manual_seed(123)\n",
        "if torch.cuda.is_available:\n",
        "  torch.cuda.manual_seed_all(1234)"
      ]
    },
    {
      "cell_type": "code",
      "source": [
        "from google.colab import drive\n",
        "drive.mount('/content/drive')"
      ],
      "metadata": {
        "colab": {
          "base_uri": "https://localhost:8080/"
        },
        "id": "5I9gTxw8Sd53",
        "outputId": "ed80e04c-6dc5-45b5-e9b1-2c04f722d72f"
      },
      "execution_count": 4,
      "outputs": [
        {
          "output_type": "stream",
          "name": "stdout",
          "text": [
            "Mounted at /content/drive\n"
          ]
        }
      ]
    },
    {
      "cell_type": "code",
      "execution_count": 5,
      "metadata": {
        "id": "khjXBThiFaWM"
      },
      "outputs": [],
      "source": [
        "# Device configuration\n",
        "device = torch.device('cuda' if torch.cuda.is_available() else 'cpu')"
      ]
    },
    {
      "cell_type": "code",
      "execution_count": 6,
      "metadata": {
        "id": "U9O1g5nwF6zf"
      },
      "outputs": [],
      "source": [
        "def load_cifar_batch(file):\n",
        "    with open(file, 'rb') as fo:\n",
        "        dict = pickle.load(fo, encoding='bytes')\n",
        "    return dict\n",
        "\n",
        "def load_cifar_data(train_files, test_file):\n",
        "    # Load training data\n",
        "    train_data = []\n",
        "    train_labels = []\n",
        "    for file in train_files:\n",
        "        batch = load_cifar_batch(\"/content/drive/MyDrive/deep-learning-mini-project-spring-24-nyu/cifar-10-python/cifar-10-batches-py/\"+file)\n",
        "        #print(batch)\n",
        "        train_data.extend(batch[b'data'])\n",
        "        train_labels += batch[b'labels']\n",
        "\n",
        "    train_data = np.vstack(train_data)\n",
        "    train_labels = np.array(train_labels)\n",
        "\n",
        "    # Load test data\n",
        "    test_batch = load_cifar_batch(test_file)\n",
        "    #print(test_batch)\n",
        "    test_data = test_batch[b'data']\n",
        "    #print(test_data)\n",
        "    test_labels = list(range(len(test_data)))\n",
        "\n",
        "    return train_data, train_labels, test_data, test_labels\n",
        "\n",
        "train_files = ['data_batch_1', 'data_batch_2', 'data_batch_3', 'data_batch_4', 'data_batch_5']\n",
        "test_file = '/content/drive/MyDrive/deep-learning-mini-project-spring-24-nyu/cifar_test_nolabels.pkl'\n",
        "\n",
        "train_data, train_labels, test_data, test_labels = load_cifar_data(train_files, test_file)\n",
        "\n",
        "train_data = train_data.reshape((50000, 3, 32, 32)).transpose(0, 2, 3, 1)\n",
        "test_data = test_data.reshape((10000, 3, 32, 32)).transpose(0, 2, 3, 1)\n",
        "\n",
        "\n",
        "# Split the training data into training and validation sets\n",
        "train_data, val_data, train_labels, val_labels = train_test_split(\n",
        "    train_data, train_labels, test_size=0.02, random_state=42)\n"
      ]
    },
    {
      "cell_type": "code",
      "source": [
        "print(val_labels.size)"
      ],
      "metadata": {
        "colab": {
          "base_uri": "https://localhost:8080/"
        },
        "id": "Ma4Q6yqJmT5-",
        "outputId": "6edcf775-f7ff-4d30-9544-ec613d66aaa3"
      },
      "execution_count": 7,
      "outputs": [
        {
          "output_type": "stream",
          "name": "stdout",
          "text": [
            "1000\n"
          ]
        }
      ]
    },
    {
      "cell_type": "code",
      "execution_count": 8,
      "metadata": {
        "id": "eTYJM-EzJaC4"
      },
      "outputs": [],
      "source": [
        "from torch.utils.data import Dataset\n",
        "from PIL import Image\n",
        "\n",
        "test_transform = transforms.Compose([\n",
        "    transforms.ToTensor(),\n",
        "    transforms.Normalize((0.5, 0.5, 0.5), (0.5, 0.5, 0.5))\n",
        "])\n",
        "\n",
        "# transformation for train data\n",
        "train_transform = transforms.Compose([\n",
        "    transforms.RandomRotation(10), # Add random rotation with 10 degrees\n",
        "    transforms.ColorJitter(brightness=0.1, contrast=0.1, saturation=0.1, hue=0.1), # Add color jitter\n",
        "    transforms.RandomHorizontalFlip(), #apply horizontal flipping\n",
        "    transforms.RandomCrop(32, padding=4),\n",
        "    transforms.ToTensor(),\n",
        "    transforms.Normalize((0.5, 0.5, 0.5), (0.5, 0.5, 0.5))\n",
        "])\n",
        "\n",
        "class CustomDataset(Dataset):\n",
        "    def __init__(self, data, targets, transform=None):\n",
        "        self.data = data\n",
        "        self.targets = targets\n",
        "        self.transform = transform\n",
        "\n",
        "    def __len__(self):\n",
        "        return len(self.data)\n",
        "\n",
        "    def __getitem__(self, index):\n",
        "        img, target = self.data[index], self.targets[index]\n",
        "\n",
        "        # Convert the image to PIL Image format (assuming data is in the range [0, 255])\n",
        "        img = Image.fromarray(img)\n",
        "\n",
        "        if self.transform is not None:\n",
        "            img = self.transform(img)\n",
        "\n",
        "        return img, target\n",
        "\n",
        "\n",
        "# Create a custom dataset instance\n",
        "train_dataset = CustomDataset(train_data, train_labels, train_transform)\n",
        "test_dataset = CustomDataset(test_data, test_labels, test_transform)\n",
        "val_dataset = CustomDataset(val_data, val_labels, transform=test_transform)\n",
        "\n",
        "#print(test_dataset.data)"
      ]
    },
    {
      "cell_type": "code",
      "execution_count": 9,
      "metadata": {
        "id": "eFBP-dh_GdqT"
      },
      "outputs": [],
      "source": [
        "train_loader = torch.utils.data.DataLoader(train_dataset, batch_size=100, shuffle=True)\n",
        "test_loader = torch.utils.data.DataLoader(test_dataset, batch_size=100, shuffle=False)\n",
        "val_loader = torch.utils.data.DataLoader(val_dataset, batch_size=100, shuffle=False)"
      ]
    },
    {
      "cell_type": "code",
      "source": [
        "# Display the first 10 images and labels\n",
        "import matplotlib.pyplot as plt\n",
        "\n",
        "plt.figure(figsize=(20, 4))\n",
        "for i in range(10):\n",
        "    plt.subplot(1, 10, i+1)\n",
        "    plt.imshow(val_dataset.data[i])\n",
        "    #plt.title(label_names[train_labels[i]].decode('utf-8'))  # Decoding from bytes to string\n",
        "    #plt.axis('off')\n",
        "plt.show()"
      ],
      "metadata": {
        "colab": {
          "base_uri": "https://localhost:8080/",
          "height": 172
        },
        "id": "vg03b-GanDR4",
        "outputId": "9f94274f-ed26-482b-cbad-9a52b143e9b7"
      },
      "execution_count": 10,
      "outputs": [
        {
          "output_type": "display_data",
          "data": {
            "text/plain": [
              "<Figure size 2000x400 with 10 Axes>"
            ],
            "image/png": "[encoded data removed]"
          },
          "metadata": {}
        }
      ]
    },
    {
      "cell_type": "code",
      "execution_count": 11,
      "metadata": {
        "id": "TS-Ni9ntLk81"
      },
      "outputs": [],
      "source": [
        "class BasicBlock(nn.Module):\n",
        "    expansion = 1\n",
        "\n",
        "    def __init__(self, in_planes, planes, stride=1):\n",
        "        super(BasicBlock, self).__init__()\n",
        "        #in_planes = input chanel size\n",
        "        #planes = output chanel size\n",
        "        #convolution later 1\n",
        "        self.conv1 = nn.Conv2d(\n",
        "            in_planes, planes, kernel_size=3, stride=stride, padding=1, bias=False)\n",
        "        #batch norm 1\n",
        "        self.bn1 = nn.BatchNorm2d(planes)\n",
        "        #convolution layer 2\n",
        "        self.conv2 = nn.Conv2d(planes, planes, kernel_size=3,\n",
        "                               stride=1, padding=1, bias=False)\n",
        "        #batch norm 2\n",
        "        self.bn2 = nn.BatchNorm2d(planes)\n",
        "\n",
        "        #skip connection\n",
        "        self.shortcut = nn.Sequential()\n",
        "        if stride != 1 or in_planes != self.expansion*planes:\n",
        "            self.shortcut = nn.Sequential(\n",
        "                nn.Conv2d(in_planes, self.expansion*planes,\n",
        "                          kernel_size=1, stride=stride, bias=False),\n",
        "                nn.BatchNorm2d(self.expansion*planes)\n",
        "            )\n",
        "\n",
        "    #forward pass of res-net\n",
        "    def forward(self, x):\n",
        "        out = f.relu(self.bn1(self.conv1(x)))\n",
        "        out = self.bn2(self.conv2(out))\n",
        "        out += self.shortcut(x)\n",
        "        out = f.relu(out)\n",
        "        return out\n"
      ]
    },
    {
      "cell_type": "code",
      "execution_count": 12,
      "metadata": {
        "id": "etia1EraLnk_"
      },
      "outputs": [],
      "source": [
        "#to edit the number of channels\n",
        "channels = [32, 64, 256, 256]"
      ]
    },
    {
      "cell_type": "code",
      "execution_count": 13,
      "metadata": {
        "id": "7zDHZRb4LpFZ"
      },
      "outputs": [],
      "source": [
        "class ResNet(nn.Module):\n",
        "    def __init__(self, channels, block, num_blocks, num_classes=10):\n",
        "        super(ResNet, self).__init__()\n",
        "        self.in_planes = channels[0]\n",
        "        dropout_probability = 0.2\n",
        "        self.conv1 = nn.Conv2d(3, channels[0], kernel_size=3,\n",
        "                               stride=1, padding=1, bias=False)\n",
        "        self.bn1 = nn.BatchNorm2d(channels[0])\n",
        "        self.layer1 = self._make_layer(block, channels[0], num_blocks[0], stride=1)\n",
        "        self.layer2 = self._make_layer(block, channels[1], num_blocks[1], stride=2)\n",
        "        self.layer3 = self._make_layer(block, channels[2], num_blocks[2], stride=2)\n",
        "        self.layer4 = self._make_layer(block, channels[3], num_blocks[3], stride=2)\n",
        "        self.linear = nn.Linear(channels[3]*4*4, num_classes)\n",
        "\n",
        "        # Dropout layer\n",
        "        self.dropout = nn.Dropout(dropout_probability)\n",
        "\n",
        "    def _make_layer(self, block, planes, num_blocks, stride):\n",
        "        strides = [stride] + [1]*(num_blocks-1)\n",
        "        layers = []\n",
        "        for stride in strides:\n",
        "            layers.append(block(self.in_planes, planes, stride))\n",
        "            self.in_planes = planes\n",
        "        return nn.Sequential(*layers)\n",
        "\n",
        "    def forward(self, x):\n",
        "        out = f.relu(self.bn1(self.conv1(x)))\n",
        "        out = self.layer1(out)\n",
        "        out = self.layer2(out)\n",
        "        # comment the line below to remove dropout layer\n",
        "        out = self.dropout(out)\n",
        "        out = self.layer3(out)\n",
        "        out = self.layer4(out)\n",
        "        # out = f.avg_pool2d(out, 4)\n",
        "        out = out.view(out.size(0), -1)\n",
        "\n",
        "        # Apply dropout\n",
        "        out = self.dropout(out)\n",
        "\n",
        "        out = self.linear(out)\n",
        "        return out"
      ]
    },
    {
      "cell_type": "code",
      "execution_count": 14,
      "metadata": {
        "id": "3y73bTxDLtl1"
      },
      "outputs": [],
      "source": [
        "def ResNet18():\n",
        "    return ResNet(channels, BasicBlock, [2, 2, 2, 2])"
      ]
    },
    {
      "cell_type": "code",
      "execution_count": 15,
      "metadata": {
        "colab": {
          "base_uri": "https://localhost:8080/"
        },
        "id": "uei7TBo9LwWp",
        "outputId": "369d00c8-d72b-45c5-c9f1-d2140d006a88"
      },
      "outputs": [
        {
          "output_type": "stream",
          "name": "stdout",
          "text": [
            "Number of parameters:  4573994\n"
          ]
        }
      ],
      "source": [
        "# Create an instance of ResNet18\n",
        "model = ResNet18()\n",
        "model.to(device)\n",
        "\n",
        "# Count the number of parameters\n",
        "num_params = sum(p.numel() for p in model.parameters())\n",
        "print(\"Number of parameters: \", num_params)\n",
        "\n",
        "# Loss function\n",
        "criterion = nn.CrossEntropyLoss()\n",
        "\n",
        "# Optimizer\n",
        "optimizer = optim.Adam(model.parameters(), lr=1e-3)\n",
        "#uncomment the below line for lr scheduling\n",
        "#scheduler = torch.optim.lr_scheduler.CosineAnnealingLR(optimizer, T_max=50)\n"
      ]
    },
    {
      "cell_type": "code",
      "execution_count": 16,
      "metadata": {
        "id": "BosrlJrKLy7s"
      },
      "outputs": [],
      "source": [
        "def train_model(epoch):\n",
        "  # num_batches = torch.ceil(torch.tensor(len(train_dataset)/100)).item()\n",
        "  model.train()\n",
        "  train_acc = 0\n",
        "  epoch_loss = 0\n",
        "  for images, labels in train_loader:\n",
        "      images = images.to(device)\n",
        "      labels = labels.to(device)\n",
        "      # print(train_loader, len(train_loader))\n",
        "      # Forward pass\n",
        "      output = model(images)\n",
        "      loss = criterion(output, labels)\n",
        "      # acc = calculate_accuracy(output, labels)\n",
        "      _, predicted = torch.max(output.data, 1)\n",
        "      # Backward and optimize\n",
        "      optimizer.zero_grad()\n",
        "      loss.backward()\n",
        "      optimizer.step()\n",
        "      # epoch_acc += acc\n",
        "      train_acc += (labels == predicted).sum().item()\n",
        "      epoch_loss += loss.item()\n",
        "\n",
        "\n",
        "  # Validation\n",
        "  model.eval()\n",
        "  val_acc = 0\n",
        "  val_loss = 0\n",
        "  for images, labels in val_loader:\n",
        "    images = images.to(device)\n",
        "    labels = labels.to(device)\n",
        "    output = model(images)\n",
        "    loss = criterion(output, labels)\n",
        "    _, predicted = torch.max(output.data, 1)\n",
        "    val_acc += (labels == predicted).sum().item()\n",
        "    val_loss += loss.item()\n",
        "\n",
        "    # Calculate validation accuracy and loss\n",
        "    val_accuracy = val_acc / len(val_dataset)\n",
        "    val_loss = val_loss / len(val_loader)\n",
        "\n",
        "  print(f'Epoch [{epoch+1}/{num_epochs}],'\n",
        "          f'Train Loss: {epoch_loss / len(train_loader):.4f}, Train Acc: {train_acc / len(train_dataset)}, '\n",
        "          f'Val Loss: {val_loss:.4f}, Val Acc: {val_accuracy:.4f}')\n",
        "  return round((train_acc / len(train_dataset))*100,2)"
      ]
    },
    {
      "cell_type": "code",
      "source": [],
      "metadata": {
        "id": "bhSu8K3ha1-a"
      },
      "execution_count": 16,
      "outputs": []
    },
    {
      "cell_type": "code",
      "execution_count": 17,
      "metadata": {
        "id": "0VBB-QXZL1dL"
      },
      "outputs": [],
      "source": [
        "# Test the model\n",
        "def model_eval():\n",
        "  model.eval()\n",
        "  with torch.no_grad():\n",
        "      #correct = 0\n",
        "      #total = 0\n",
        "      labels_predicted = []\n",
        "      for images, ids in test_loader:\n",
        "          images = images.to(device)\n",
        "          #labels = labels.to(device)\n",
        "          outputs = model(images)\n",
        "          _, predicted = torch.max(outputs.data, 1)\n",
        "          labels_predicted += predicted.tolist()\n",
        "\n",
        "  # Save the model checkpoint\n",
        "  ids = range(len(labels_predicted))\n",
        "  df = pd.DataFrame({'ID': ids, 'Labels': labels_predicted})\n",
        "  df.to_csv('predictions.csv', index=False)\n",
        "  torch.save(model.state_dict(), 'resnet.ckpt')"
      ]
    },
    {
      "cell_type": "code",
      "execution_count": null,
      "metadata": {
        "id": "e1oFr7CIL40W"
      },
      "outputs": [],
      "source": [
        "# Training loop\n",
        "num_epochs = 75\n",
        "best_acc = 0\n",
        "train_accuracies = []\n",
        "test_accuracies = []\n",
        "for epoch in range(num_epochs):\n",
        "  train_accuracies.append(train_model(epoch))\n",
        "  #scheduler.step() #uncomment while implementing lr scheduling\n"
      ]
    },
    {
      "cell_type": "markdown",
      "source": [
        "model.eval()"
      ],
      "metadata": {
        "id": "9MYl3fgA5Qgy"
      }
    },
    {
      "cell_type": "code",
      "source": [
        "model_eval()"
      ],
      "metadata": {
        "id": "VAjZbhWe0j1R"
      },
      "execution_count": null,
      "outputs": []
    },
    {
      "cell_type": "code",
      "source": [
        "import matplotlib.pyplot as plt\n",
        "import seaborn as sns\n",
        "import pandas as pd\n",
        "\n",
        "# Sample data (replace these with your actual data)\n",
        "epochs = range(1, num_epochs+1)\n",
        "# train_accuracies\n",
        "# test_accuracies\n",
        "\n",
        "# Creating a DataFrame\n",
        "result_data = pd.DataFrame({\n",
        "    'Epochs': epochs,\n",
        "    'Training Accuracy': train_accuracies,\n",
        "    'Validation Accuracy': test_accuracies\n",
        "})\n",
        "\n",
        "# # Plotting loss vs epoch\n",
        "# plt.figure(figsize=(10, 5))\n",
        "# sns.lineplot(data=data[['Training Loss', 'Validation Loss']], markers=True)\n",
        "# plt.title('Training and Validation Loss vs Epoch')\n",
        "# plt.xlabel('Epochs')\n",
        "# plt.ylabel('Loss')\n",
        "# plt.legend(['Training Loss', 'Validation Loss'])\n",
        "# plt.grid(True)\n",
        "# plt.show()\n",
        "\n",
        "# Plotting accuracy vs epoch\n",
        "plt.figure(figsize=(10, 5))\n",
        "sns.lineplot(data=result_data[['Training Accuracy', 'Validation Accuracy']], markers=True)\n",
        "plt.title('Training and Validation Accuracy vs Epoch')\n",
        "plt.xlabel('Epochs')\n",
        "plt.ylabel('Accuracy')\n",
        "plt.legend(['Training Accuracy', 'Validation Accuracy'])\n",
        "plt.grid(True)\n",
        "plt.show()\n"
      ],
      "metadata": {
        "id": "mKl7pHfPmzLp"
      },
      "execution_count": null,
      "outputs": []
    }
  ],
  "metadata": {
    "accelerator": "GPU",
    "colab": {
      "gpuType": "T4",
      "provenance": []
    },
    "kernelspec": {
      "display_name": "Python 3",
      "name": "python3"
    },
    "language_info": {
      "name": "python"
    }
  },
  "nbformat": 4,
  "nbformat_minor": 0
}